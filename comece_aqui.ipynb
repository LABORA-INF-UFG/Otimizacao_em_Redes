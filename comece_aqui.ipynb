{
 "cells": [
  {
   "cell_type": "markdown",
   "id": "8068ecd3-5e98-464b-a427-a426fead7b0e",
   "metadata": {},
   "source": [
    "# Tutorial em desenvolvimento!"
   ]
  },
  {
   "cell_type": "markdown",
   "id": "73d5e3a0-5632-4401-84a4-2df6c439b376",
   "metadata": {},
   "source": [
    "- [Problema de alocação de recursos em um cenário 5G](#secao1): Apresentação do contexto do problema, e as principais características de virtualização das funções da rede de acesso.\n",
    "\n",
    "- [Resolução de problemas de programação inteira](#secao2): Contextualização do método de resolução de problemas de otimização combinatoria e problemas de programação inteira.\n",
    "\n",
    "- [Introdução ao PlaceRAN](#secao3): Introdução ao modelo de resolução de alocação de recursos para centralização de funções da RAN em redes virtualizadas.\n",
    "\n",
    "- [Implementação no Solver](#secao4): Apresentar a implementação do modelo e os resultados obtidos com a aplicação da solução.\n",
    "\n",
    "- [Trabalhos derivados e linhas de pesquisa futuras](#secao5): Apresentação de trabalhos que foram influenciados pelo  PlaceRAN e linhas de pesquisa a serem exploradas no futuro."
   ]
  },
  {
   "cell_type": "markdown",
   "id": "b5803fe9-0331-4e14-88c8-de222953913c",
   "metadata": {},
   "source": [
    "<a id='secao1'></a>\n",
    "## Problema de alocação de recursos em um cenário 5G"
   ]
  },
  {
   "cell_type": "markdown",
   "id": "84d35620-a436-42dd-a548-4180a72c85dd",
   "metadata": {},
   "source": [
    "<a id='secao2'></a>\n",
    "## Resolução de problemas de programação inteira"
   ]
  },
  {
   "cell_type": "markdown",
   "id": "b6738e8c-8a87-498d-9158-453dc2a90578",
   "metadata": {},
   "source": [
    "<a id='secao3'></a>\n",
    "## Introdução ao PlaceRAN"
   ]
  },
  {
   "cell_type": "markdown",
   "id": "48f6d73d-fa6f-44fa-9f9e-8b3abdd32ec6",
   "metadata": {},
   "source": [
    "<a id='secao4'></a>\n",
    "## Implementação no Solver"
   ]
  },
  {
   "cell_type": "markdown",
   "id": "a32da70c-82d2-4fcc-852f-332865db904f",
   "metadata": {},
   "source": [
    "<a id='secao5'></a>\n",
    "## Trabalhos derivados e linhas de pesquisa futuras"
   ]
  },
  {
   "cell_type": "code",
   "execution_count": null,
   "id": "006d0360-1d05-4850-a9a0-9768a90b7179",
   "metadata": {},
   "outputs": [],
   "source": [
    "# Teste de utilização do cplex e docplex\n",
    "from docplex.mp.model import Model\n",
    "import cplex\n",
    "\n",
    "m = Model(name='CaminhoMinimo')\n",
    "x_12 = m.binary_var(name='x_12')\n",
    "x_13 = m.binary_var(name='x_13')\n",
    "x_23 = m.binary_var(name='x_23')\n",
    "x_24 = m.binary_var(name='x_24')\n",
    "x_34 = m.binary_var(name='x_34')\n",
    "\n",
    "m.add_constraint(x_12+x_13==1)\n",
    "m.add_constraint(x_12-x_24-x_23==0)\n",
    "m.add_constraint(x_13+x_23-x_34==0)\n",
    "m.add_constraint(x_24+x_34==1)\n",
    "\n",
    "m.minimize(10*x_12+28*x_13+15*x_23+35*x_24+13*x_34)\n",
    "m.print_information()\n",
    "m.solve()\n",
    "print(m.solution)"
   ]
  },
  {
   "cell_type": "code",
   "execution_count": null,
   "id": "b856697b-3754-4c04-90f6-5be97dbb0f1f",
   "metadata": {},
   "outputs": [],
   "source": [
    "import os\n",
    "os.system('cd placeran/ && python3 path_gen.py')"
   ]
  },
  {
   "cell_type": "code",
   "execution_count": null,
   "id": "368a157e-8b5f-4f08-b225-b1f35bb8ac5f",
   "metadata": {},
   "outputs": [],
   "source": [
    "os.system('cd placeran/ && python3 placeran_pocket.py')"
   ]
  },
  {
   "cell_type": "code",
   "execution_count": null,
   "id": "e4ae94eb-96b0-4771-8e57-0e2b66482731",
   "metadata": {},
   "outputs": [],
   "source": [
    "# os.system('sudo apt-get install graphviz graphviz-dev')\n",
    "# os.system('pip3 install pygraphviz')"
   ]
  },
  {
   "cell_type": "code",
   "execution_count": null,
   "id": "09fc841d-1b24-49f4-841e-ff3ccc74e8ae",
   "metadata": {},
   "outputs": [],
   "source": [
    "#from placeran.topologies.plot_graphs import plot_graph\n",
    " \n",
    "#NODES = 'placeran/topologies/5_CRs/T2_5_CRs.json'\n",
    "#LINKS = 'placeran/topologies/5_CRs/T2_5_links.json'\n",
    "\n",
    "#plot_graph(NODES, LINKS, x_=60, y_=20)"
   ]
  }
 ],
 "metadata": {
  "kernelspec": {
   "display_name": "Python 3 (ipykernel)",
   "language": "python",
   "name": "python3"
  },
  "language_info": {
   "codemirror_mode": {
    "name": "ipython",
    "version": 3
   },
   "file_extension": ".py",
   "mimetype": "text/x-python",
   "name": "python",
   "nbconvert_exporter": "python",
   "pygments_lexer": "ipython3",
   "version": "3.8.10"
  }
 },
 "nbformat": 4,
 "nbformat_minor": 5
}

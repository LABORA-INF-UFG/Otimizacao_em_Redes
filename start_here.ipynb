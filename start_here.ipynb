{
 "cells": [
  {
   "cell_type": "markdown",
   "id": "8068ecd3-5e98-464b-a427-a426fead7b0e",
   "metadata": {},
   "source": [
    "#### Tutorial em desenvolvimento!\n",
    "\n",
    "- Para acessar este notebook remotamente visite o \n",
    "<a href=\"https://mybinder.org/v2/gh/LABORA-INF-UFG/Otimizacao_em_Redes/HEAD?labpath=start_here.ipynb\">link</a>."
   ]
  },
  {
   "cell_type": "code",
   "execution_count": null,
   "id": "006d0360-1d05-4850-a9a0-9768a90b7179",
   "metadata": {},
   "outputs": [],
   "source": [
    "# Teste de utilização do cplex e docplex\n",
    "from docplex.mp.model import Model\n",
    "import cplex\n",
    "\n",
    "m = Model(name='CaminhoMinimo')\n",
    "x_12 = m.binary_var(name='x_12')\n",
    "x_13 = m.binary_var(name='x_13')\n",
    "x_23 = m.binary_var(name='x_23')\n",
    "x_24 = m.binary_var(name='x_24')\n",
    "x_34 = m.binary_var(name='x_34')\n",
    "\n",
    "m.add_constraint(x_12+x_13==1)\n",
    "m.add_constraint(x_12-x_24-x_23==0)\n",
    "m.add_constraint(x_13+x_23-x_34==0)\n",
    "m.add_constraint(x_24+x_34==1)\n",
    "\n",
    "m.minimize(10*x_12+28*x_13+15*x_23+35*x_24+13*x_34)\n",
    "m.print_information()\n",
    "m.solve()\n",
    "print(m.solution)"
   ]
  }
 ],
 "metadata": {
  "kernelspec": {
   "display_name": "Python 3 (ipykernel)",
   "language": "python",
   "name": "python3"
  },
  "language_info": {
   "codemirror_mode": {
    "name": "ipython",
    "version": 3
   },
   "file_extension": ".py",
   "mimetype": "text/x-python",
   "name": "python",
   "nbconvert_exporter": "python",
   "pygments_lexer": "ipython3",
   "version": "3.8.10"
  }
 },
 "nbformat": 4,
 "nbformat_minor": 5
}
